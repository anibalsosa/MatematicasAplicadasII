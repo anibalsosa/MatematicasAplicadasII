{
  "nbformat": 4,
  "nbformat_minor": 0,
  "metadata": {
    "colab": {
      "provenance": [],
      "include_colab_link": true
    },
    "kernelspec": {
      "name": "python3",
      "display_name": "Python 3"
    },
    "language_info": {
      "name": "python"
    }
  },
  "cells": [
    {
      "cell_type": "markdown",
      "metadata": {
        "id": "view-in-github",
        "colab_type": "text"
      },
      "source": [
        "<a href=\"https://colab.research.google.com/github/anibalsosa/MatematicasAplicadasII/blob/main/Matem%C3%A1ticas_Aplicadas_II_nb1.ipynb\" target=\"_parent\"><img src=\"https://colab.research.google.com/assets/colab-badge.svg\" alt=\"Open In Colab\"/></a>"
      ]
    },
    {
      "cell_type": "markdown",
      "metadata": {
        "id": "nRSmik7mnr0u"
      },
      "source": [
        "<img src=https://www.icesi.edu.co/wp-content/uploads/2024/10/ICESI_logo_prin_descriptor_RGB_NEGATIVO_0924-768x395.png width=\"300\" height=\"150\" align=\"center\">\n",
        "\n",
        "#**<big><big>Matemáticas Aplicadas II</big></big><br><small>Depto. Ciencias Físicas y Exactas/ Facultad de Ingeniería, Diseño y Ciencias Aplicadas</small><br><small>_*Cuaderno 1*_ (Teorema fundamental del cálculo ). </small>**\n",
        "\n",
        "1. **Lectura sugerida del texto de Sloughter. Calculus from Approximation to Theory (2020)**: Sección  4.3 Teorema fundamental del cálculo y 4.4 Usando el Teorema fundamental del cálculo\n",
        "\n",
        "2. **Lectura sugerida del texto de Lax. Calculus With Applications (2014)**: Sección 6.3 Teorema fundamental del cálculo.\n",
        "\n",
        "**<u>Agenda</u>**\n",
        "*Teorema fundamental del cálculo y sus aplicaciones*\n"
      ]
    },
    {
      "cell_type": "markdown",
      "metadata": {
        "id": "Umv5D_ZdD9rp"
      },
      "source": [
        "A continuación daremos el resultado matemático que resume la siguiente afirmación:\n",
        "\n",
        "> Si una función $F$ se define como la integral de $f$ desde $a$ hasta $x$, entonces la derivada de $F$ es $f$.\n",
        "\n",
        "En otras palabras la diferenciación y la integración son operaciones inversas.\n",
        "\n",
        "____\n"
      ]
    },
    {
      "cell_type": "markdown",
      "metadata": {
        "id": "Cqsw1_VmFYZp"
      },
      "source": [
        "**Teorema Fundamental del Cálculo**\n",
        "\n",
        "1.   Sea $f$ cualquier función continua en $[a, b]$. Entonces $f$ es la derivada de alguna función diferenciable. De hecho, para $x$ en $[a, b]$,\n",
        "\n",
        "$$ \\frac{d}{dx}\\left(\\int_a^x f (t)\\,dt\\right)=f(x).$$\n",
        "\n",
        "2.   Sea $F$ cualquier función con una derivada continua en $[a, b]$. Luego $$ F(b)-F(a)=\\int_a^b F' (x)\\,dx.$$\n",
        "\n",
        "\n",
        "\n"
      ]
    },
    {
      "cell_type": "markdown",
      "metadata": {
        "id": "SuPII-86bZTG"
      },
      "source": [
        "\n",
        "Aunque nuestro objetivo no es hacer demostraciones, la del enunciado 2 del Teorema Fundamental del Calculo ilustra la relevancia del resultado para relacionar la derivada con la integral. Considere una partición arbitraria del intervalo $[a,b]$, esto es,  $a=x_0 < x_1 < x_2 < · · · < x_{n−1} < b=x_n$. Supongamos que $ \\Delta x_i= x_i-x_{i-1},\\,i=1,2,...,n.$ Ahora,\n",
        "\n",
        "$$ F(b)-F(a)=F(x_n)-F(x_0) =F(x_n)+(F(x_{n-1})-F(x_{n-1}))+...+(F(x_{1})-F(x_1))-F(x_0)$$\n",
        "$$ F(b)-F(a)=(F(x_n)-F(x_{n-1}))+(F(x_{n-1})-F((x_{n-2}))+...+(F(x_{1})-F(x_0))$$\n",
        "$$ F(b)-F(a)=\\sum_{i=1}^n F(x_i)-F(x_{i-1}).$$\n",
        "\n",
        "Por el Teorema del Valor Medio existe un $c_i$ en cada intervalo $[x_i,x_{i-1}]$ tal que\n",
        "$$F'(c_i)=\\frac{F(x_i)-F(x_{i-1})}{x_i-x_{i-1}}.$$\n",
        "De aquí se puede obtener entonces que\n",
        "\n",
        "$$F(x_i)-F(x_{i-1})=f(c_i)(x_i- x_{i-1}) $$\n",
        "\n",
        "Todo lo anterior nos conduce a la aproximación de la integral en 2.\n",
        "\n",
        "$$ F(b)-F(a)=\\sum_{i=1}^n  f(c_i)\\Delta x_i$$\n",
        "\n"
      ]
    },
    {
      "cell_type": "markdown",
      "metadata": {
        "id": "R48ucPEWbniL"
      },
      "source": [
        "El teorema fundamental del cálculo tiene al menos\n",
        "dos usos importantes. En primer lugar, es el teorema de existencia fundamental de análisis; garantiza la existencia de una función con una derivada dada. Su segundo uso radica en proporcionar un método exacto para evaluar la integral de cualquier función que\n",
        "sea la derivada de una función conocida.\n",
        "\n",
        "___\n",
        "\n",
        "Hemos llegado al punto de ilustrar como el teorema del valor medio del cálculo diferencial, teorema del valor medio para integrales y el teorema fundamental del cálculo pueden relacionarse en una declaración unificadora. Si $F'$ es continua en\n",
        "$[a, b]$, luego para algún $c$,\n",
        "\n",
        "$$ F'(c)=\\frac{1}{b-a}\\int_a^b F'(t)\\,dt=\\frac{F(b)-F(a)}{b-a}.$$\n",
        "\n",
        "Exprese en sus palabras que significado tiene la anterior relación."
      ]
    },
    {
      "cell_type": "markdown",
      "metadata": {
        "id": "6kaYOfXtCUW0"
      },
      "source": [
        "*Notación.* Algunas veces denotamos $F(b)-F(a)$ por\n",
        "$$F(b)-F(a)=F(x)|_a^b$$\n",
        "\n",
        "**Ejemplos (Evaluación de integrales)**\n",
        "\n",
        "Evalúe las siguientes integrales definidas:\n",
        "\n",
        "\n",
        "1.   $\\displaystyle \\int_a^b\\sin t\\,dt$\n",
        "2.   $\\displaystyle\\int_0^1 e^t\\,dt$\n",
        "3. $\\displaystyle\\int_a^b t^n\\,dt$\n",
        "4. Sea $$f(x)=\\left\\{\n",
        "\\begin{array}{ll}\n",
        "      \\frac{\\sin x}{x}, & x\\not=0 \\\\\n",
        "      1, & x=0\n",
        "\\end{array}\n",
        "\\right.$$ Entonces $f$ es continua en $(-\\infty,\\infty)$. Calcule $F'(x) $ si $F(x) = \\displaystyle \\int_0^x f(t)\\,dt$.\n",
        "\n"
      ]
    },
    {
      "cell_type": "code",
      "metadata": {
        "colab": {
          "base_uri": "https://localhost:8080/",
          "height": 502
        },
        "id": "2RoLEldLFTDo",
        "outputId": "1397ff25-5223-4824-acdf-3d3cc683cfc2"
      },
      "source": [
        "#@title Ejemplos (Función integral seno) { display-mode: \"form\" }\n",
        "\n",
        "import IPython.display as IP\n",
        "\n",
        "iframe = IP.IFrame(\n",
        "  src=\"https://www.geogebra.org/classic/r3guqpu4\",\n",
        "  width=\"1020px\",\n",
        "  height=\"480px\"\n",
        "  )\n",
        "\n",
        "IP.display_html(iframe)"
      ],
      "execution_count": null,
      "outputs": [
        {
          "output_type": "display_data",
          "data": {
            "text/html": [
              "\n",
              "        <iframe\n",
              "            width=\"1020px\"\n",
              "            height=\"480px\"\n",
              "            src=\"https://www.geogebra.org/classic/r3guqpu4\"\n",
              "            frameborder=\"0\"\n",
              "            allowfullscreen\n",
              "        ></iframe>\n",
              "        "
            ]
          },
          "metadata": {}
        }
      ]
    },
    {
      "cell_type": "markdown",
      "metadata": {
        "id": "LvQ141DMqOe6"
      },
      "source": [
        "# Métodos de Integración\n",
        "\n",
        "**Integración por sustitución**\n",
        "\n",
        "A partir de la regla de la cadena para una función $F$ (que puede ser la antiderivada de una función $f$) tenemos\n",
        "\n",
        "$$\\left(F(g(x))\\right)' =  F'(g(x))g'(x),$$\n",
        "\n",
        "luego podemos deducir la siguiente fórmula para integrar.\n",
        "\n",
        "**Teorema (Cambio de variable)** Sea $g$ una función con derivada continua en un intervalo $[a,b]$, y sea $f$ continua en el intervalo que contiene al rango de $g$. Entonces\n",
        "\n",
        "$$\\int f(g(x))g'(x)\\, dx=\\int f(u) \\frac{du}{dx} dx=\\int f(u)\\,du.\\qquad (u=g(x))$$\n",
        "\n",
        "o equivalentemente en el caso de una integral definida\n",
        "\n",
        "$$ \\int_{g(a)}^{g(b)} f(u)\\,du=\\int_a^b f(g(x))g'(x)\\, dx.$$\n",
        "\n",
        "**Integración por partes**\n",
        "\n",
        "Ahora recordemos la regla del producto para derivadas\n",
        "\n",
        "$$(f g ) ' =  f'g+fg',$$\n",
        "\n",
        "luego si integramos sobre un intervalo $[a,b]$ y suponiendo como antes que $f'$ y $g'$ son continuas, obtenemos  \n",
        "\n",
        "**Teorema (Integral por partes)** Sean $f'$ y $g'$  continuas en un intervalo $[a,b]$. Entonces\n",
        "\n",
        "$$\\int f'(x)g(x)\\, dx=f(x) g(x)-\\int f(x)g'(x)\\,dx.$$\n"
      ]
    },
    {
      "cell_type": "markdown",
      "metadata": {
        "id": "G7X8o7hYK3Q4"
      },
      "source": [
        "*Ejemplos*\n",
        "\n",
        "Encuentre:\n",
        "\n",
        "1.   $$\\int_{-1}^{1} te^t\\,dt$$\n",
        "2.   $$\\int_1^3 \\ln x\\,dx$$\n",
        "3.   $$\\int_0^{2\\pi} 2t \\cos t^2\\,dt$$\n",
        "4.   $$\\int \\frac{1}{x}\\ln x\\,dx$$\n",
        "\n"
      ]
    }
  ]
}